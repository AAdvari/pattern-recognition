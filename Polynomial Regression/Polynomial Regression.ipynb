{
 "cells": [
  {
   "cell_type": "code",
   "execution_count": 1,
   "id": "initial_id",
   "metadata": {
    "collapsed": true,
    "ExecuteTime": {
     "end_time": "2024-10-24T09:20:45.446682Z",
     "start_time": "2024-10-24T09:20:45.040952Z"
    }
   },
   "outputs": [],
   "source": [
    "import pandas as pd \n",
    "import numpy as np\n",
    "import tqdm\n",
    "import matplotlib.pyplot as plt"
   ]
  },
  {
   "cell_type": "code",
   "execution_count": 2,
   "outputs": [],
   "source": [
    "df = pd.read_csv('../data/1.csv')"
   ],
   "metadata": {
    "collapsed": false,
    "ExecuteTime": {
     "end_time": "2024-10-24T09:20:45.948104Z",
     "start_time": "2024-10-24T09:20:45.924622Z"
    }
   },
   "id": "906dee57a1d65c95"
  },
  {
   "cell_type": "code",
   "execution_count": 3,
   "outputs": [],
   "source": [
    "class MyLinearRegression:\n",
    "    def __init__(self):\n",
    "        self.w = None\n",
    "        \n",
    "    def fit(self, X: np.ndarray, y: np.array, epochs=100, learning_rate=0.01, gd = True):\n",
    "        rows, cols = X.shape\n",
    "        if not gd:\n",
    "            self.w = np.linalg.inv(X.T @ X) @ X.T @ y\n",
    "        else:\n",
    "            self.w = np.ones(cols)\n",
    "            for _ in tqdm.tqdm(range(epochs)):\n",
    "                predicts = X @ self.w\n",
    "                errors = (predicts - y)\n",
    "                self.w -= learning_rate * (X.T @ errors) / rows\n",
    "            \n",
    "        \n",
    "    def predict(self, X: np.ndarray):\n",
    "        return X @ self.w\n",
    "\n",
    "    def score(self, X: np.ndarray, y: np.array):\n",
    "        y_pred = self.predict(X)\n",
    "        return  1 - ((y - y_pred)**2).sum() / ((y - y.mean())**2).sum()\n",
    "\n",
    "\n",
    "class PolynomialRegression: \n",
    "    def __init__(self, degree=2, epochs = 100):\n",
    "        self.degree = degree\n",
    "        self.epochs = epochs\n",
    "        self.powers = None\n",
    "        self.learning_rate = 0.01\n",
    "        self.lr = MyLinearRegression()\n",
    "    \n",
    "    def fit(self, X: np.ndarray, y: np.array, epochs=100, learning_rate=0.01, gd = True):\n",
    "        X = self.add_bias(X)\n",
    "        self.powers = self.get_power_combinations(X.shape[1], self.degree)\n",
    "        X = self.get_pr_features(X, self.powers)\n",
    "        self.lr.fit(X, y, epochs=epochs, learning_rate=learning_rate, gd=gd)\n",
    "        \n",
    "    def score(self, X: np.ndarray, y: np.array):\n",
    "        X = self.add_bias(X)\n",
    "        X = self.get_pr_features(X, self.powers)\n",
    "        return self.lr.score(X, y)\n",
    "    \n",
    "    \n",
    "    def predict(self, X: np.ndarray):\n",
    "        X = self.add_bias(X)\n",
    "        X = self.get_pr_features(X, self.powers)\n",
    "        return X @ self.lr.w\n",
    "        \n",
    "    def add_bias(self, X: np.ndarray): \n",
    "        return np.column_stack((np.ones(X.shape[0]) , X))\n",
    "        \n",
    "    \n",
    "    def get_pr_features(self, X: np.ndarray, powers: np.ndarray = None):\n",
    "        if powers is None:\n",
    "            powers = self.get_power_combinations(X.shape[1], self.degree)\n",
    "        return np.prod(np.power(X[:, np.newaxis], powers), axis=-1)\n",
    "\n",
    "\n",
    "    def get_power_combinations(self, n: int, m: int): \n",
    "        if n == 1:\n",
    "            return [[m]]\n",
    "        if m == 0:\n",
    "            return [[0 for _ in range(n)]]\n",
    "        sols = []\n",
    "        for i in range(m+1):\n",
    "            for sol in self.get_power_combinations(n-1, m - i):\n",
    "                sols.append(\n",
    "                    [i] + sol\n",
    "                )\n",
    "        return sols"
   ],
   "metadata": {
    "collapsed": false,
    "ExecuteTime": {
     "end_time": "2024-10-24T09:20:46.255779Z",
     "start_time": "2024-10-24T09:20:46.248669Z"
    }
   },
   "id": "ab60fddebbc74275"
  },
  {
   "cell_type": "code",
   "execution_count": 4,
   "outputs": [],
   "source": [
    "def train_test_split_manual(df, test_size=0.2, random_state=None, shuffle=True):\n",
    "    if shuffle:\n",
    "        df = df.sample(frac=1, random_state=random_state).reset_index(drop=True)\n",
    "\n",
    "    if isinstance(test_size, float):\n",
    "        test_size = int(len(df) * test_size)\n",
    "\n",
    "    train_df = df.iloc[:-test_size].reset_index(drop=True)\n",
    "    test_df = df.iloc[-test_size:].reset_index(drop=True)\n",
    "\n",
    "    return train_df, test_df\n"
   ],
   "metadata": {
    "collapsed": false,
    "ExecuteTime": {
     "end_time": "2024-10-24T09:20:47.317653Z",
     "start_time": "2024-10-24T09:20:47.310933Z"
    }
   },
   "id": "8937193d21cbff92"
  },
  {
   "cell_type": "code",
   "execution_count": 5,
   "outputs": [],
   "source": [
    "NUMERICAL_FEATURES = [\n",
    "    'Rooms', 'Distance', 'Bedroom2', 'Postcode', 'Bathroom', 'Car',\n",
    "    'Landsize', 'BuildingArea', 'YearBuilt', 'Lattitude', 'Longtitude', 'Propertycount',\n",
    "]\n",
    "CATEGORICAL_FEATURES = [\n",
    "    'Suburb', 'Type', 'Method', 'SellerG', 'CouncilArea', 'Regionname', 'Date'\n",
    "]\n",
    "PREDICT = 'Price'\n",
    "\n",
    "train, test = train_test_split_manual(df, test_size=.2, random_state=40, shuffle=True)"
   ],
   "metadata": {
    "collapsed": false,
    "ExecuteTime": {
     "end_time": "2024-10-24T09:20:49.256435Z",
     "start_time": "2024-10-24T09:20:49.250178Z"
    }
   },
   "id": "fb4c46b215f1f3fc"
  },
  {
   "cell_type": "code",
   "execution_count": 15,
   "outputs": [],
   "source": [
    "def normalize_df(matrix: np.ndarray):\n",
    "    return (matrix - matrix.min(axis=0)) / (matrix.max(axis=0) - matrix.min(axis=0))\n",
    "def standardize_df(matrix: np.ndarray):\n",
    "    return (matrix - matrix.mean(axis=0)) / matrix.std(axis=0)"
   ],
   "metadata": {
    "collapsed": false,
    "ExecuteTime": {
     "end_time": "2024-10-24T09:40:18.996141Z",
     "start_time": "2024-10-24T09:40:18.990216Z"
    }
   },
   "id": "a920eece643ee552"
  },
  {
   "cell_type": "code",
   "execution_count": 12,
   "outputs": [],
   "source": [
    "from sklearn.preprocessing import PolynomialFeatures\n",
    "from sklearn.linear_model import LinearRegression\n",
    "from sklearn.impute import SimpleImputer\n",
    "from sklearn.linear_model import SGDRegressor"
   ],
   "metadata": {
    "collapsed": false,
    "ExecuteTime": {
     "end_time": "2024-10-24T09:40:07.445753Z",
     "start_time": "2024-10-24T09:40:07.441803Z"
    }
   },
   "id": "18094c50c5336c67"
  },
  {
   "cell_type": "code",
   "execution_count": 13,
   "outputs": [
    {
     "data": {
      "text/plain": "0.3255252439672187"
     },
     "execution_count": 13,
     "metadata": {},
     "output_type": "execute_result"
    }
   ],
   "source": [
    "pr2 = PolynomialFeatures(degree=1)\n",
    "imp = SimpleImputer(missing_values=np.nan, strategy='mean')\n",
    "gdr = SGDRegressor(\n",
    "    loss='squared_error', \n",
    "    penalty='l2', \n",
    "    alpha=0.0001, \n",
    "    l1_ratio=0.15, \n",
    "    fit_intercept=True, \n",
    "    max_iter=1000, \n",
    "    tol=0.001, \n",
    "    shuffle=True, \n",
    "    verbose=0, \n",
    "    epsilon=0.1, \n",
    "    random_state=None, \n",
    "    learning_rate='constant', \n",
    "    eta0=0.01, \n",
    "    power_t=0.25, \n",
    "    early_stopping=False, \n",
    "    validation_fraction=0.1, \n",
    "    n_iter_no_change=5, \n",
    "    warm_start=False, \n",
    "    average=False\n",
    ")\n",
    "lr = LinearRegression()\n",
    "\n",
    "\n",
    "train_numeric = imp.fit_transform(train[NUMERICAL_FEATURES])\n",
    "\n",
    "train_numeric = normalize_df(train_numeric)\n",
    "# train_numeric = standardize_df(train_numeric)\n",
    "\n",
    "train_numeric = pr2.fit_transform(train_numeric)\n",
    "y = train[PREDICT].values\n",
    "gdr.fit(train_numeric, y)\n",
    "\n",
    "\n",
    "test_numeric = imp.fit_transform(test[NUMERICAL_FEATURES])\n",
    "test_numeric = normalize_df(test_numeric)\n",
    "\n",
    "# test_numeric = standardize_df(test_numeric)\n",
    "test_numeric = pr2.fit_transform(test_numeric)\n",
    "\n",
    "y_test = test[PREDICT].values\n",
    "gdr.score(test_numeric, y_test)"
   ],
   "metadata": {
    "collapsed": false,
    "ExecuteTime": {
     "end_time": "2024-10-24T09:40:08.890933Z",
     "start_time": "2024-10-24T09:40:08.866916Z"
    }
   },
   "id": "9e1b1322e30da67b"
  },
  {
   "cell_type": "code",
   "execution_count": 16,
   "outputs": [
    {
     "name": "stderr",
     "output_type": "stream",
     "text": [
      "100%|██████████| 100/100 [00:00<00:00, 47940.38it/s]\n"
     ]
    },
    {
     "data": {
      "text/plain": "np.float64(0.49444759448310355)"
     },
     "execution_count": 16,
     "metadata": {},
     "output_type": "execute_result"
    }
   ],
   "source": [
    "pr1 = PolynomialRegression(degree=1)\n",
    "imp = SimpleImputer(missing_values=np.nan, strategy='mean')\n",
    "\n",
    "train_numeric = imp.fit_transform(train[NUMERICAL_FEATURES])\n",
    "\n",
    "# train_numeric = normalize_df(train_numeric)\n",
    "train_numeric = standardize_df(train_numeric)\n",
    "\n",
    "y = train[PREDICT].values\n",
    "pr1.fit(train_numeric, y, epochs=100, learning_rate=.15, gd=True)\n",
    "\n",
    "\n",
    "test_numeric = imp.fit_transform(test[NUMERICAL_FEATURES])\n",
    "\n",
    "# test_numeric = normalize_df(test_numeric)\n",
    "test_numeric = standardize_df(test_numeric)\n",
    "\n",
    "y_test = test[PREDICT].values\n",
    "pr1.score(test_numeric, y_test)"
   ],
   "metadata": {
    "collapsed": false,
    "ExecuteTime": {
     "end_time": "2024-10-24T09:40:27.135490Z",
     "start_time": "2024-10-24T09:40:27.109469Z"
    }
   },
   "id": "ffcb8b60fca486b9"
  },
  {
   "cell_type": "code",
   "execution_count": 164,
   "outputs": [
    {
     "data": {
      "text/plain": "-2912058.3894756055"
     },
     "execution_count": 164,
     "metadata": {},
     "output_type": "execute_result"
    }
   ],
   "source": [],
   "metadata": {
    "collapsed": false,
    "ExecuteTime": {
     "end_time": "2024-10-23T18:56:13.660248Z",
     "start_time": "2024-10-23T18:50:52.602233Z"
    }
   },
   "id": "88cff5b150e6e75"
  },
  {
   "cell_type": "code",
   "execution_count": null,
   "outputs": [],
   "source": [],
   "metadata": {
    "collapsed": false
   },
   "id": "98ada6744da8a867"
  }
 ],
 "metadata": {
  "kernelspec": {
   "display_name": "Python 3",
   "language": "python",
   "name": "python3"
  },
  "language_info": {
   "codemirror_mode": {
    "name": "ipython",
    "version": 2
   },
   "file_extension": ".py",
   "mimetype": "text/x-python",
   "name": "python",
   "nbconvert_exporter": "python",
   "pygments_lexer": "ipython2",
   "version": "2.7.6"
  }
 },
 "nbformat": 4,
 "nbformat_minor": 5
}
